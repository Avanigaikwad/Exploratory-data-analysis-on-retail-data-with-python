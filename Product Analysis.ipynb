{
 "cells": [
  {
   "cell_type": "markdown",
   "id": "c2e54d2b-0034-4dd7-a1dd-20c38bc2649e",
   "metadata": {
    "tags": []
   },
   "source": [
    "<h1>Product Analysis Based on Sales Quantities</h1>"
   ]
  },
  {
   "cell_type": "code",
   "execution_count": 10,
   "id": "4507e043-1863-47b4-a8d8-e11c7ae312a7",
   "metadata": {
    "tags": []
   },
   "outputs": [
    {
     "name": "stdout",
     "output_type": "stream",
     "text": [
      "Requirement already satisfied: openpyxl in /home/jupyterlab/conda/envs/python/lib/python3.7/site-packages (3.1.2)\n",
      "Requirement already satisfied: et-xmlfile in /home/jupyterlab/conda/envs/python/lib/python3.7/site-packages (from openpyxl) (1.1.0)\n",
      "Note: you may need to restart the kernel to use updated packages.\n"
     ]
    }
   ],
   "source": [
    "%pip install openpyxl"
   ]
  },
  {
   "cell_type": "code",
   "execution_count": 11,
   "id": "dcad20fe-211c-4bbd-8dfe-c88e9b19c94f",
   "metadata": {
    "tags": []
   },
   "outputs": [],
   "source": [
    "import pandas as pd\n",
    "import matplotlib.pyplot as plt\n",
    "import numpy as np\n",
    "import requests"
   ]
  },
  {
   "cell_type": "code",
   "execution_count": 12,
   "id": "ac0662de-5256-4950-96fe-f17a1b6a9751",
   "metadata": {
    "tags": []
   },
   "outputs": [],
   "source": [
    "# URL of the file\n",
    "url = \"https://archive.ics.uci.edu/ml/machine-learning-databases/00352/Online%20Retail.xlsx\"\n",
    "\n",
    "# Send a GET request to the URL\n",
    "response = requests.get(url)\n",
    "\n",
    "# Save the content to a local file\n",
    "with open(\"Online_Retail.xlsx\", \"wb\") as file:\n",
    "    file.write(response.content)"
   ]
  },
  {
   "cell_type": "code",
   "execution_count": 13,
   "id": "382e0de0-3653-448b-897a-500d658b46a7",
   "metadata": {
    "tags": []
   },
   "outputs": [
    {
     "data": {
      "text/html": [
       "<div>\n",
       "<style scoped>\n",
       "    .dataframe tbody tr th:only-of-type {\n",
       "        vertical-align: middle;\n",
       "    }\n",
       "\n",
       "    .dataframe tbody tr th {\n",
       "        vertical-align: top;\n",
       "    }\n",
       "\n",
       "    .dataframe thead th {\n",
       "        text-align: right;\n",
       "    }\n",
       "</style>\n",
       "<table border=\"1\" class=\"dataframe\">\n",
       "  <thead>\n",
       "    <tr style=\"text-align: right;\">\n",
       "      <th></th>\n",
       "      <th>InvoiceNo</th>\n",
       "      <th>StockCode</th>\n",
       "      <th>Description</th>\n",
       "      <th>Quantity</th>\n",
       "      <th>InvoiceDate</th>\n",
       "      <th>UnitPrice</th>\n",
       "      <th>CustomerID</th>\n",
       "      <th>Country</th>\n",
       "    </tr>\n",
       "  </thead>\n",
       "  <tbody>\n",
       "    <tr>\n",
       "      <th>0</th>\n",
       "      <td>536365</td>\n",
       "      <td>85123A</td>\n",
       "      <td>WHITE HANGING HEART T-LIGHT HOLDER</td>\n",
       "      <td>6</td>\n",
       "      <td>2010-12-01 08:26:00</td>\n",
       "      <td>2.55</td>\n",
       "      <td>17850.0</td>\n",
       "      <td>United Kingdom</td>\n",
       "    </tr>\n",
       "    <tr>\n",
       "      <th>1</th>\n",
       "      <td>536365</td>\n",
       "      <td>71053</td>\n",
       "      <td>WHITE METAL LANTERN</td>\n",
       "      <td>6</td>\n",
       "      <td>2010-12-01 08:26:00</td>\n",
       "      <td>3.39</td>\n",
       "      <td>17850.0</td>\n",
       "      <td>United Kingdom</td>\n",
       "    </tr>\n",
       "    <tr>\n",
       "      <th>2</th>\n",
       "      <td>536365</td>\n",
       "      <td>84406B</td>\n",
       "      <td>CREAM CUPID HEARTS COAT HANGER</td>\n",
       "      <td>8</td>\n",
       "      <td>2010-12-01 08:26:00</td>\n",
       "      <td>2.75</td>\n",
       "      <td>17850.0</td>\n",
       "      <td>United Kingdom</td>\n",
       "    </tr>\n",
       "    <tr>\n",
       "      <th>3</th>\n",
       "      <td>536365</td>\n",
       "      <td>84029G</td>\n",
       "      <td>KNITTED UNION FLAG HOT WATER BOTTLE</td>\n",
       "      <td>6</td>\n",
       "      <td>2010-12-01 08:26:00</td>\n",
       "      <td>3.39</td>\n",
       "      <td>17850.0</td>\n",
       "      <td>United Kingdom</td>\n",
       "    </tr>\n",
       "    <tr>\n",
       "      <th>4</th>\n",
       "      <td>536365</td>\n",
       "      <td>84029E</td>\n",
       "      <td>RED WOOLLY HOTTIE WHITE HEART.</td>\n",
       "      <td>6</td>\n",
       "      <td>2010-12-01 08:26:00</td>\n",
       "      <td>3.39</td>\n",
       "      <td>17850.0</td>\n",
       "      <td>United Kingdom</td>\n",
       "    </tr>\n",
       "    <tr>\n",
       "      <th>...</th>\n",
       "      <td>...</td>\n",
       "      <td>...</td>\n",
       "      <td>...</td>\n",
       "      <td>...</td>\n",
       "      <td>...</td>\n",
       "      <td>...</td>\n",
       "      <td>...</td>\n",
       "      <td>...</td>\n",
       "    </tr>\n",
       "    <tr>\n",
       "      <th>541904</th>\n",
       "      <td>581587</td>\n",
       "      <td>22613</td>\n",
       "      <td>PACK OF 20 SPACEBOY NAPKINS</td>\n",
       "      <td>12</td>\n",
       "      <td>2011-12-09 12:50:00</td>\n",
       "      <td>0.85</td>\n",
       "      <td>12680.0</td>\n",
       "      <td>France</td>\n",
       "    </tr>\n",
       "    <tr>\n",
       "      <th>541905</th>\n",
       "      <td>581587</td>\n",
       "      <td>22899</td>\n",
       "      <td>CHILDREN'S APRON DOLLY GIRL</td>\n",
       "      <td>6</td>\n",
       "      <td>2011-12-09 12:50:00</td>\n",
       "      <td>2.10</td>\n",
       "      <td>12680.0</td>\n",
       "      <td>France</td>\n",
       "    </tr>\n",
       "    <tr>\n",
       "      <th>541906</th>\n",
       "      <td>581587</td>\n",
       "      <td>23254</td>\n",
       "      <td>CHILDRENS CUTLERY DOLLY GIRL</td>\n",
       "      <td>4</td>\n",
       "      <td>2011-12-09 12:50:00</td>\n",
       "      <td>4.15</td>\n",
       "      <td>12680.0</td>\n",
       "      <td>France</td>\n",
       "    </tr>\n",
       "    <tr>\n",
       "      <th>541907</th>\n",
       "      <td>581587</td>\n",
       "      <td>23255</td>\n",
       "      <td>CHILDRENS CUTLERY CIRCUS PARADE</td>\n",
       "      <td>4</td>\n",
       "      <td>2011-12-09 12:50:00</td>\n",
       "      <td>4.15</td>\n",
       "      <td>12680.0</td>\n",
       "      <td>France</td>\n",
       "    </tr>\n",
       "    <tr>\n",
       "      <th>541908</th>\n",
       "      <td>581587</td>\n",
       "      <td>22138</td>\n",
       "      <td>BAKING SET 9 PIECE RETROSPOT</td>\n",
       "      <td>3</td>\n",
       "      <td>2011-12-09 12:50:00</td>\n",
       "      <td>4.95</td>\n",
       "      <td>12680.0</td>\n",
       "      <td>France</td>\n",
       "    </tr>\n",
       "  </tbody>\n",
       "</table>\n",
       "<p>541909 rows × 8 columns</p>\n",
       "</div>"
      ],
      "text/plain": [
       "       InvoiceNo StockCode                          Description  Quantity  \\\n",
       "0         536365    85123A   WHITE HANGING HEART T-LIGHT HOLDER         6   \n",
       "1         536365     71053                  WHITE METAL LANTERN         6   \n",
       "2         536365    84406B       CREAM CUPID HEARTS COAT HANGER         8   \n",
       "3         536365    84029G  KNITTED UNION FLAG HOT WATER BOTTLE         6   \n",
       "4         536365    84029E       RED WOOLLY HOTTIE WHITE HEART.         6   \n",
       "...          ...       ...                                  ...       ...   \n",
       "541904    581587     22613          PACK OF 20 SPACEBOY NAPKINS        12   \n",
       "541905    581587     22899         CHILDREN'S APRON DOLLY GIRL          6   \n",
       "541906    581587     23254        CHILDRENS CUTLERY DOLLY GIRL          4   \n",
       "541907    581587     23255      CHILDRENS CUTLERY CIRCUS PARADE         4   \n",
       "541908    581587     22138        BAKING SET 9 PIECE RETROSPOT          3   \n",
       "\n",
       "               InvoiceDate  UnitPrice  CustomerID         Country  \n",
       "0      2010-12-01 08:26:00       2.55     17850.0  United Kingdom  \n",
       "1      2010-12-01 08:26:00       3.39     17850.0  United Kingdom  \n",
       "2      2010-12-01 08:26:00       2.75     17850.0  United Kingdom  \n",
       "3      2010-12-01 08:26:00       3.39     17850.0  United Kingdom  \n",
       "4      2010-12-01 08:26:00       3.39     17850.0  United Kingdom  \n",
       "...                    ...        ...         ...             ...  \n",
       "541904 2011-12-09 12:50:00       0.85     12680.0          France  \n",
       "541905 2011-12-09 12:50:00       2.10     12680.0          France  \n",
       "541906 2011-12-09 12:50:00       4.15     12680.0          France  \n",
       "541907 2011-12-09 12:50:00       4.15     12680.0          France  \n",
       "541908 2011-12-09 12:50:00       4.95     12680.0          France  \n",
       "\n",
       "[541909 rows x 8 columns]"
      ]
     },
     "execution_count": 13,
     "metadata": {},
     "output_type": "execute_result"
    }
   ],
   "source": [
    "df = pd.read_excel(\"Online_Retail.xlsx\")\n",
    "df"
   ]
  },
  {
   "cell_type": "code",
   "execution_count": 14,
   "id": "a8312cbf-c3c3-40aa-bf5e-ff46af569e15",
   "metadata": {
    "tags": []
   },
   "outputs": [
    {
     "data": {
      "text/plain": [
       "InvoiceNo      536641\n",
       "StockCode      536641\n",
       "Description    535187\n",
       "Quantity       536641\n",
       "InvoiceDate    536641\n",
       "UnitPrice      536641\n",
       "CustomerID     401604\n",
       "Country        536641\n",
       "dtype: int64"
      ]
     },
     "execution_count": 14,
     "metadata": {},
     "output_type": "execute_result"
    }
   ],
   "source": [
    "#to delete the duplicate rows from the dataframe & count the rows in every column (drop_duplicates() method is used)\n",
    "x = df.drop_duplicates()\n",
    "x.count()"
   ]
  },
  {
   "cell_type": "code",
   "execution_count": 15,
   "id": "3fe17b4f-f713-42a8-a4f0-492eede2290d",
   "metadata": {
    "tags": []
   },
   "outputs": [
    {
     "data": {
      "text/plain": [
       "InvoiceNo      401604\n",
       "StockCode      401604\n",
       "Description    401604\n",
       "Quantity       401604\n",
       "InvoiceDate    401604\n",
       "UnitPrice      401604\n",
       "CustomerID     401604\n",
       "Country        401604\n",
       "dtype: int64"
      ]
     },
     "execution_count": 15,
     "metadata": {},
     "output_type": "execute_result"
    }
   ],
   "source": [
    "#to delete the empty rows \n",
    "df = x.dropna()\n",
    "df.count()"
   ]
  },
  {
   "cell_type": "code",
   "execution_count": 16,
   "id": "d96d417d-5aa9-4993-afbf-7785cdbcfacf",
   "metadata": {
    "tags": []
   },
   "outputs": [
    {
     "name": "stderr",
     "output_type": "stream",
     "text": [
      "/home/jupyterlab/conda/envs/python/lib/python3.7/site-packages/pandas/core/indexing.py:1773: SettingWithCopyWarning: \n",
      "A value is trying to be set on a copy of a slice from a DataFrame.\n",
      "Try using .loc[row_indexer,col_indexer] = value instead\n",
      "\n",
      "See the caveats in the documentation: https://pandas.pydata.org/pandas-docs/stable/user_guide/indexing.html#returning-a-view-versus-a-copy\n",
      "  self._setitem_single_column(ilocs[0], value, pi)\n"
     ]
    }
   ],
   "source": [
    "# to convert quantities with negative values to positive because quantities cannot be negative\n",
    "df.loc[:, 'Quantity'] = df['Quantity'].abs()\n",
    "\n",
    "df.loc[:, 'CustomerID'] = df['CustomerID'].abs()"
   ]
  },
  {
   "cell_type": "code",
   "execution_count": 17,
   "id": "0e11ed96-5768-459b-8b2a-f6f49520e4e6",
   "metadata": {
    "tags": []
   },
   "outputs": [
    {
     "data": {
      "text/plain": [
       "Description\n",
       "PAPER CRAFT , LITTLE BIRDIE           161990\n",
       "MEDIUM CERAMIC TOP STORAGE JAR        152410\n",
       "WORLD WAR 2 GLIDERS ASSTD DESIGNS      55519\n",
       "JUMBO BAG RED RETROSPOT                47193\n",
       "WHITE HANGING HEART T-LIGHT HOLDER     39284\n",
       "                                       ...  \n",
       "DOLPHIN WINDMILL                           1\n",
       "SET/3 FLORAL GARDEN TOOLS IN BAG           1\n",
       "CROCHET LILAC/RED BEAR KEYRING             1\n",
       "FLOWER SHOP DESIGN MUG                     1\n",
       "BLOSSOM IMAGES SCRAP BOOK SET              1\n",
       "Name: Quantity, Length: 3896, dtype: int64"
      ]
     },
     "execution_count": 17,
     "metadata": {},
     "output_type": "execute_result"
    }
   ],
   "source": [
    "# find the quantities sold of each product\n",
    "quantity_sold_of_each_product = df.groupby('Description')['Quantity'].sum().nlargest(len(df['Description'].unique()))\n",
    "quantity_sold_of_each_product\n",
    "\n",
    "#quantity_sold_of_each_product.head(5)\n",
    "#type(quantity_sold_of_each_product)"
   ]
  },
  {
   "cell_type": "code",
   "execution_count": 18,
   "id": "a36b90aa-a551-4035-a6f8-d4ef7d41bc7a",
   "metadata": {
    "tags": []
   },
   "outputs": [
    {
     "name": "stdout",
     "output_type": "stream",
     "text": [
      "Product with the highest sales : ['PAPER CRAFT , LITTLE BIRDIE']\n",
      "Highest sales quantity: 161990\n"
     ]
    }
   ],
   "source": [
    "# Finding the product with the highest sales quantity\n",
    "highest_sales_quantity = quantity_sold_of_each_product.max()\n",
    "highest_sales_products = quantity_sold_of_each_product[quantity_sold_of_each_product == highest_sales_quantity].index.tolist()\n",
    "\n",
    "# Print the results\n",
    "print(\"Product with the highest sales :\", highest_sales_products)\n",
    "print(\"Highest sales quantity:\", highest_sales_quantity)"
   ]
  },
  {
   "cell_type": "code",
   "execution_count": 19,
   "id": "48dba15c-6f1d-4f64-b2ad-609d0bd696c0",
   "metadata": {
    "tags": []
   },
   "outputs": [
    {
     "data": {
      "text/html": [
       "<div>\n",
       "<style scoped>\n",
       "    .dataframe tbody tr th:only-of-type {\n",
       "        vertical-align: middle;\n",
       "    }\n",
       "\n",
       "    .dataframe tbody tr th {\n",
       "        vertical-align: top;\n",
       "    }\n",
       "\n",
       "    .dataframe thead th {\n",
       "        text-align: right;\n",
       "    }\n",
       "</style>\n",
       "<table border=\"1\" class=\"dataframe\">\n",
       "  <thead>\n",
       "    <tr style=\"text-align: right;\">\n",
       "      <th></th>\n",
       "      <th>Description</th>\n",
       "      <th>Quantity</th>\n",
       "      <th>StockCode</th>\n",
       "    </tr>\n",
       "  </thead>\n",
       "  <tbody>\n",
       "    <tr>\n",
       "      <th>0</th>\n",
       "      <td>HEN HOUSE W CHICK IN NEST</td>\n",
       "      <td>1</td>\n",
       "      <td>84227</td>\n",
       "    </tr>\n",
       "    <tr>\n",
       "      <th>1</th>\n",
       "      <td>EASTER CRAFT IVY WREATH WITH CHICK</td>\n",
       "      <td>1</td>\n",
       "      <td>22146</td>\n",
       "    </tr>\n",
       "    <tr>\n",
       "      <th>2</th>\n",
       "      <td>NEW BAROQUE B'FLY NECKLACE PINK</td>\n",
       "      <td>1</td>\n",
       "      <td>90024D</td>\n",
       "    </tr>\n",
       "    <tr>\n",
       "      <th>3</th>\n",
       "      <td>SILVER AND BLACK ORBIT NECKLACE</td>\n",
       "      <td>1</td>\n",
       "      <td>90014C</td>\n",
       "    </tr>\n",
       "    <tr>\n",
       "      <th>4</th>\n",
       "      <td>JARDIN ETCHED GLASS BUTTER DISH</td>\n",
       "      <td>1</td>\n",
       "      <td>85144</td>\n",
       "    </tr>\n",
       "    <tr>\n",
       "      <th>...</th>\n",
       "      <td>...</td>\n",
       "      <td>...</td>\n",
       "      <td>...</td>\n",
       "    </tr>\n",
       "    <tr>\n",
       "      <th>63</th>\n",
       "      <td>DOLPHIN WINDMILL</td>\n",
       "      <td>1</td>\n",
       "      <td>77079</td>\n",
       "    </tr>\n",
       "    <tr>\n",
       "      <th>64</th>\n",
       "      <td>SET/3 FLORAL GARDEN TOOLS IN BAG</td>\n",
       "      <td>1</td>\n",
       "      <td>47503J</td>\n",
       "    </tr>\n",
       "    <tr>\n",
       "      <th>65</th>\n",
       "      <td>CROCHET LILAC/RED BEAR KEYRING</td>\n",
       "      <td>1</td>\n",
       "      <td>84550</td>\n",
       "    </tr>\n",
       "    <tr>\n",
       "      <th>66</th>\n",
       "      <td>FLOWER SHOP DESIGN MUG</td>\n",
       "      <td>1</td>\n",
       "      <td>23664</td>\n",
       "    </tr>\n",
       "    <tr>\n",
       "      <th>67</th>\n",
       "      <td>BLOSSOM IMAGES SCRAP BOOK SET</td>\n",
       "      <td>1</td>\n",
       "      <td>85031B</td>\n",
       "    </tr>\n",
       "  </tbody>\n",
       "</table>\n",
       "<p>68 rows × 3 columns</p>\n",
       "</div>"
      ],
      "text/plain": [
       "                           Description  Quantity StockCode\n",
       "0            HEN HOUSE W CHICK IN NEST         1     84227\n",
       "1   EASTER CRAFT IVY WREATH WITH CHICK         1     22146\n",
       "2      NEW BAROQUE B'FLY NECKLACE PINK         1    90024D\n",
       "3      SILVER AND BLACK ORBIT NECKLACE         1    90014C\n",
       "4      JARDIN ETCHED GLASS BUTTER DISH         1     85144\n",
       "..                                 ...       ...       ...\n",
       "63                    DOLPHIN WINDMILL         1     77079\n",
       "64    SET/3 FLORAL GARDEN TOOLS IN BAG         1    47503J\n",
       "65      CROCHET LILAC/RED BEAR KEYRING         1     84550\n",
       "66              FLOWER SHOP DESIGN MUG         1     23664\n",
       "67       BLOSSOM IMAGES SCRAP BOOK SET         1    85031B\n",
       "\n",
       "[68 rows x 3 columns]"
      ]
     },
     "execution_count": 19,
     "metadata": {},
     "output_type": "execute_result"
    }
   ],
   "source": [
    "# Finding the product with the lowest sales quantity\n",
    "lowest_sales_quantity = quantity_sold_of_each_product.min()\n",
    "lowest_sales_products = quantity_sold_of_each_product[quantity_sold_of_each_product == lowest_sales_quantity].index.tolist()\n",
    "\n",
    "# to find lowest sold product with StockCode\n",
    "lowest_sales_df = quantity_sold_of_each_product[quantity_sold_of_each_product == lowest_sales_quantity]\n",
    "lowest_sales_with_stock_code = pd.merge(lowest_sales_df, df[['Description', 'StockCode']], on='Description', how='left')\n",
    "lowest_sales_with_stock_code\n",
    "\n",
    "#print(\"Product(s) with the lowest sales quantity:\", lowest_sales_products)\n",
    "#print(\"Lowest sales quantity:\", lowest_sales_quantity)"
   ]
  },
  {
   "cell_type": "markdown",
   "id": "a65d51da-f2df-49fa-b1cd-35df4adb457d",
   "metadata": {},
   "source": [
    "<h4>Quantities Sold of Each Product</h4>\n",
    "<p>The analysis focuses on the quantities sold for each product, identifying the best-selling and least-selling products.</p>"
   ]
  },
  {
   "cell_type": "markdown",
   "id": "52adcce1-7a1f-4e75-93d8-172932593aac",
   "metadata": {},
   "source": [
    "<h4> Highest and Lowest Selling Products</h4>\n",
    "\n",
    "<ol type=\"1\">\n",
    "    <li><strong> Highest Selling Product: </strong></li>\n",
    "    <ul>\n",
    "        <li>Product: PAPER CRAFT, LITTLE BIRDIE </li>\n",
    "        <li>Quantity Sold: 161,990 </li></ul><br>\n",
    "    <li><strong> Lowest Selling Products:</strong></li>\n",
    "    <span>There are multiple products tied for the lowest sales quantity, each selling only 1 unit. These include:</span>\n",
    "    <ul>\n",
    "        <li>HEN HOUSE W CHICK IN NEST (StockCode: 84227)</li>\n",
    "        <li>EASTER CRAFT IVY WREATH WITH CHICK (StockCode: 22146)</li>\n",
    "        <li>NEW BAROQUE B'FLY NECKLACE PINK (StockCode: 90024D)</li>\n",
    "        <li>SILVER AND BLACK ORBIT NECKLACE (StockCode: 90014C)</li>\n",
    "        <li>JARDIN ETCHED GLASS BUTTER DISH (StockCode: 85144)</li>\n",
    "        <li>And several others, totaling 68 products.</li></ul>"
   ]
  },
  {
   "cell_type": "code",
   "execution_count": 20,
   "id": "4042e2f9-b798-4295-835f-15f2c45ef37e",
   "metadata": {
    "tags": []
   },
   "outputs": [
    {
     "data": {
      "image/png": "[encoded data removed]",
      "text/plain": [
       "<Figure size 640x480 with 1 Axes>"
      ]
     },
     "metadata": {},
     "output_type": "display_data"
    }
   ],
   "source": [
    "#pie chart for top 5 quantities sold\n",
    "\n",
    "quantity_sold_of_each_product.nlargest(5).plot(kind='pie',shadow=True, autopct='%1.2f%%')\n",
    "plt.title(\"Total Quantity sold per product\")\n",
    "plt.ylabel('')\n",
    "plt.show()"
   ]
  },
  {
   "cell_type": "code",
   "execution_count": 22,
   "id": "fb36bfb0-34dd-45a7-836d-0d5b6c8300f2",
   "metadata": {
    "tags": []
   },
   "outputs": [
    {
     "name": "stdout",
     "output_type": "stream",
     "text": [
      "Description\n",
      "PAPER CRAFT , LITTLE BIRDIE            161990\n",
      "MEDIUM CERAMIC TOP STORAGE JAR         152410\n",
      "WORLD WAR 2 GLIDERS ASSTD DESIGNS       55519\n",
      "JUMBO BAG RED RETROSPOT                 47193\n",
      "WHITE HANGING HEART T-LIGHT HOLDER      39284\n",
      "Others                                4982525\n",
      "Name: Quantity, dtype: int64\n"
     ]
    }
   ],
   "source": [
    "# Extract the top 5 descriptions and remaining product total quantities in others\n",
    "top_5_descriptions = quantity_sold_of_each_product.head(5)\n",
    "other_descriptions = quantity_sold_of_each_product[5:]\n",
    "\n",
    "# Sum the quantities of the remaining descriptions\n",
    "other_quantity = other_descriptions.sum()\n",
    "\n",
    "# Combine the top 5 descriptions with 'Others'\n",
    "top_5_descriptions['Others'] = other_quantity\n",
    "print(top_5_descriptions)"
   ]
  },
  {
   "cell_type": "markdown",
   "id": "d78b7b84-9690-4e7b-80e1-6b241e1f55f9",
   "metadata": {},
   "source": [
    "<h4>Visualization:<h4> \n",
    "<p>Top 5 Quantities Sold per Product</p>\n",
    "<p>A pie chart visualizes the distribution of quantities sold among the top 5 products, with the remaining products grouped into \"Others\"</p>\n",
    "<p>The chart highlights the dominance of the top product, PAPER CRAFT, LITTLE BIRDIE, in terms of quantities sold.</p>"
   ]
  },
  {
   "cell_type": "code",
   "execution_count": 23,
   "id": "4dd31d1a-fe24-434c-b033-f8447a24c173",
   "metadata": {
    "tags": []
   },
   "outputs": [
    {
     "data": {
      "text/plain": [
       "Country\n",
       "United Kingdom    4513204\n",
       "Netherlands        201746\n",
       "EIRE               144579\n",
       "Germany            120971\n",
       "France             113052\n",
       "Australia           84755\n",
       "Sweden              36524\n",
       "Switzerland         30388\n",
       "Spain               29071\n",
       "Japan               26814\n",
       "Name: Quantity, dtype: int64"
      ]
     },
     "execution_count": 23,
     "metadata": {},
     "output_type": "execute_result"
    }
   ],
   "source": [
    "# total quantity of the items purchased by each unique country \n",
    "total_quantity_per_country = df.groupby('Country')['Quantity'].sum().nlargest(10)\n",
    "total_quantity_per_country"
   ]
  },
  {
   "cell_type": "code",
   "execution_count": 24,
   "id": "de7ea40b-ab9f-4125-865d-ff149457cabf",
   "metadata": {
    "tags": []
   },
   "outputs": [
    {
     "data": {
      "image/png": "[encoded data removed]",
      "text/plain": [
       "<Figure size 1000x600 with 1 Axes>"
      ]
     },
     "metadata": {},
     "output_type": "display_data"
    }
   ],
   "source": [
    "#to count the total number of quantities purchased in each unique country\n",
    "total_quantity_per_country.nlargest(5).plot(kind='bar', color='green', figsize=(10, 6))\n",
    "plt.title('Total Quantity of Items Purchased by Country')\n",
    "plt.xlabel('Country')\n",
    "plt.ylabel('Total Quantity')\n",
    "plt.xticks(rotation=0)\n",
    "#plt.tight_layout()\n",
    "\n",
    "for i in range(5):\n",
    "    plt.text(x=i, y=total_quantity_per_country[i], s=str(total_quantity_per_country[i]), ha='center')\n",
    "\n",
    "plt.show()"
   ]
  },
  {
   "cell_type": "markdown",
   "id": "36a14554-9478-4a08-b369-10adef234403",
   "metadata": {
    "tags": []
   },
   "source": [
    "<h4>Total Quantity of Items Purchased by Country</h4>\n",
    "<p>The analysis extends to the total quantities of items purchased by each country, identifying the top 10 countries.</p>"
   ]
  },
  {
   "cell_type": "markdown",
   "id": "60f367f5-7fc3-4e38-a4eb-60c9ecd06c06",
   "metadata": {},
   "source": [
    "<ol>\n",
    "    <li><strong>Top Country:</strong> United Kingdom with 4,513,204 units purchased.</li>\n",
    "    <li><strong>Other Leading Countries:</strong>\n",
    "    <ul>\n",
    "        <li>Netherlands: 201,746 units</li>\n",
    "        <li>EIRE: 144,579 units</li>\n",
    "        <li>Germany: 120,971 units</li>\n",
    "        <li>France: 113,052 units</li>"
   ]
  },
  {
   "cell_type": "markdown",
   "id": "e62599b1-246a-4e1e-addb-b9420446f063",
   "metadata": {
    "tags": []
   },
   "source": [
    "<h4>Visualization:<h4> \n",
    "<p>Total Quantity of Items Purchased by Country\n",
    "<p>A bar chart visualizes the top 5 countries by total quantities purchased.</p>\n",
    "<p>The chart clearly shows the dominance of the United Kingdom in terms of quantity purchased, followed by a significant gap to the next highest countries.</p>"
   ]
  },
  {
   "cell_type": "code",
   "execution_count": 27,
   "id": "1b78eab5-bc8c-4b1b-96ae-b14b27628721",
   "metadata": {
    "tags": []
   },
   "outputs": [
    {
     "name": "stdout",
     "output_type": "stream",
     "text": [
      "     StockCode  Quantity                   Description\n",
      "0        10002       823   INFLATABLE POLITICAL GLOBE \n",
      "1        10080       291      GROOVY CACTUS INFLATABLE\n",
      "2        10120       192                  DOGGY RUBBER\n",
      "3        10125      1225       MINI FUNKY DESIGN TAPES\n",
      "4        10133      2383  COLOURING PENCILS BROWN TUBE\n",
      "...        ...       ...                           ...\n",
      "3911         D      1194                      Discount\n",
      "3912       DOT        16                DOTCOM POSTAGE\n",
      "3913         M     10934                        Manual\n",
      "3914      PADS         4    PADS TO MATCH ALL CUSHIONS\n",
      "3915      POST      3238                       POSTAGE\n",
      "\n",
      "[3916 rows x 3 columns]\n"
     ]
    }
   ],
   "source": [
    "# Group by 'StockCode' and sum the 'Quantity'\n",
    "total_quantities = df.groupby('StockCode', as_index=False)['Quantity'].sum()\n",
    "\n",
    "# Merge with the original DataFrame to get descriptions\n",
    "# Drop duplicates to ensure each StockCode has one Description\n",
    "unique_stock_descriptions = df[['StockCode', 'Description']].drop_duplicates()\n",
    "\n",
    "# Merge the total quantities with the descriptions\n",
    "result = pd.merge(total_quantities, unique_stock_descriptions, on='StockCode', how='left')\n",
    "\n",
    "# Optionally, sort the result by total quantities sold in descending order\n",
    "#result = result.sort_values(by='Quantity', ascending=False).reset_index(drop=True)\n",
    "\n",
    "# Display the first few rows of the result\n",
    "print(result)"
   ]
  },
  {
   "cell_type": "markdown",
   "id": "252315ac-43f1-4541-a1c5-c9fd69dcc598",
   "metadata": {},
   "source": [
    "<h4>Stock Code Analysis</h4>\n",
    "<p>Grouping by 'StockCode' and summing the 'Quantity' provides insight into the quantities sold for each stock item. This data can help in managing inventory and understanding the demand for specific stock items.</p>"
   ]
  },
  {
   "cell_type": "markdown",
   "id": "28f2eb75-fd92-42ed-973c-e50a6e0734d7",
   "metadata": {},
   "source": [
    "<h3>Key Insights and Recommendations</h3>\n",
    "<ol type=\"1\">\n",
    "    <li><strong>Product Popularity:</strong> The PAPER CRAFT, LITTLE BIRDIE product is significantly more popular than others, indicating a high demand. Ensure sufficient stock levels for this product to avoid stockouts.</li>\n",
    "    <li><strong>Low-Performing Products:</strong> The presence of multiple products with only 1 unit sold suggests a need for review. Consider discontinuing or reevaluating marketing strategies for these products.</li>\n",
    "<li><strong>Market Focus:<strong> The United Kingdom is the largest market by a substantial margin. Focus marketing and sales strategies here to leverage the high demand.</li>\n",
    "    <li><strong>Country-Specific Strategies:</strong> Tailor marketing strategies for other significant markets like the Netherlands, EIRE, Germany, and France to boost sales.</li>\n",
    "    <li><strong>Inventory Management:</strong> Use the stock quantity data to manage inventory levels effectively, ensuring high-demand items are well-stocked and low-demand items are minimized to reduce holding costs.</li>\n",
    "</ol>\n",
    "<p>This product analysis provides a comprehensive view of product performance and market demand, guiding strategic decisions in inventory management, marketing, and sales optimization.</p>"
   ]
  },
  {
   "cell_type": "code",
   "execution_count": null,
   "id": "780f3abc-aa60-46b0-a255-dc34fa8c68ab",
   "metadata": {},
   "outputs": [],
   "source": []
  }
 ],
 "metadata": {
  "kernelspec": {
   "display_name": "Python",
   "language": "python",
   "name": "conda-env-python-py"
  },
  "language_info": {
   "codemirror_mode": {
    "name": "ipython",
    "version": 3
   },
   "file_extension": ".py",
   "mimetype": "text/x-python",
   "name": "python",
   "nbconvert_exporter": "python",
   "pygments_lexer": "ipython3",
   "version": "3.7.12"
  }
 },
 "nbformat": 4,
 "nbformat_minor": 5
}
